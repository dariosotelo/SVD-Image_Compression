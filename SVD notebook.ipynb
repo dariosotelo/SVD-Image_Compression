{
 "cells": [
  {
   "cell_type": "markdown",
   "id": "0bc0ceef",
   "metadata": {},
   "source": [
    "# Compresión de imágenes usando SVD\n",
    "\n",
    "### Alberto Márquez\n",
    "### María Vara\n",
    "### Darío Sotelo\n",
    "\n",
    "#### Análisis Aplicado"
   ]
  },
  {
   "cell_type": "markdown",
   "id": "cfbc9d83",
   "metadata": {},
   "source": [
    "Importamos las siguientes paqueterías:"
   ]
  },
  {
   "cell_type": "code",
   "execution_count": 1,
   "id": "d9529cfa",
   "metadata": {},
   "outputs": [],
   "source": [
    "import numpy as np\n",
    "from scipy.linalg import svd\n",
    "from matplotlib.image import imread\n",
    "import matplotlib.pyplot as plt\n",
    "import os"
   ]
  },
  {
   "cell_type": "markdown",
   "id": "8ad35a16",
   "metadata": {},
   "source": [
    "El método es:"
   ]
  },
  {
   "cell_type": "code",
   "execution_count": 6,
   "id": "fa9d6a6a",
   "metadata": {},
   "outputs": [],
   "source": [
    "def singular_value_descomposition(Mat):\n",
    "    aux1 = np.dot(Mat, Mat.T)\n",
    "    \n",
    "    #Primero vamos a obtener los eigenvalores y eigenvectores de la matriz\n",
    "    eigval, eigvec = np.linalg.eig(aux1)\n",
    "    \n",
    "    \n",
    "    #En esta línea se ordenan los eigenvalores en orden ascendente con la función argsort()\n",
    "    #y después se revierte el orden del arreglo con la instrucción [::-1], ahora tenemos una lista de \n",
    "    #eigenvalores ordenados de forma descendiente\n",
    "    eigenval_desc = np.argsort(eigval)[::-1]\n",
    "    \n",
    "    \n",
    "    #En la siguiente línea se le asigna a U el valor de los eigenvectores correspondientes a los eigenvalores\n",
    "    #de forma descendente.\n",
    "    U = eigvec[:, eigenval_desc]\n",
    "    \n",
    "    \n",
    "    #La siguiente matriz que vamos a obtener es Vt\n",
    "    #primero calculamos el producto de Mt*M\n",
    "    aux2 = np.dot(Mat.T, Mat)\n",
    "    \n",
    "    #Se obtienen los eigenvalores y eigenvectores de las matrices multiplicadas\n",
    "    eigval, eigvec = np.linalg.eig(aux2)\n",
    "    \n",
    "    #Se vuelven a ordenar de igual forma que la matriz U\n",
    "    eigenval_desc = np.argsort(eigval)[::-1]\n",
    "    \n",
    "    Vt = eigvec[:, eigenval_desc].T\n",
    "    \n",
    "    #Por último tenemos que obtener la matriz sigma, la cual tenemos que descartar un tamaño,\n",
    "    #es decir, nos vamos a quedar con una matriz cuadrada y tenemos que medir el tamaño de la multiplicación\n",
    "    mat_calc = np.dot(Mat.T, Mat) if (np.size(np.dot(Mat, Mat.T)) > np.size(np.dot(Mat.T, Mat))) else np.dot(Mat, Mat.T)\n",
    "    \n",
    "    #En esta línea se sacan los eigenvalores y eigenvectores de la matriz que resultó ser la \"buena\" (cambiar esta palabra)\n",
    "    eigval, eigvec = np.linalg.eig(mat_calc)\n",
    "    \n",
    "    #Se le aplica la raíz a los eigenvalores\n",
    "    eigval = np.sqrt(eigval)\n",
    "    \n",
    "    sigma = eigval[::1]\n",
    "    \n",
    "    return U, sigma, Vt"
   ]
  },
  {
   "cell_type": "markdown",
   "id": "86ef51cf",
   "metadata": {},
   "source": []
  },
  {
   "cell_type": "code",
   "execution_count": null,
   "id": "a328d0e4",
   "metadata": {},
   "outputs": [],
   "source": []
  },
  {
   "cell_type": "code",
   "execution_count": null,
   "id": "e28eab6e",
   "metadata": {},
   "outputs": [],
   "source": []
  }
 ],
 "metadata": {
  "kernelspec": {
   "display_name": "Python 3 (ipykernel)",
   "language": "python",
   "name": "python3"
  },
  "language_info": {
   "codemirror_mode": {
    "name": "ipython",
    "version": 3
   },
   "file_extension": ".py",
   "mimetype": "text/x-python",
   "name": "python",
   "nbconvert_exporter": "python",
   "pygments_lexer": "ipython3",
   "version": "3.9.12"
  }
 },
 "nbformat": 4,
 "nbformat_minor": 5
}
