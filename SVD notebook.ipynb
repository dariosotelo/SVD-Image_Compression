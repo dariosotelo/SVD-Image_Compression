{
 "cells": [
  {
   "cell_type": "markdown",
   "id": "09d4593f",
   "metadata": {},
   "source": [
    "# Compresión de imágenes usando SVD\n",
    "\n",
    "### Alberto Márquez\n",
    "### María Vara\n",
    "### Darío Sotelo\n",
    "\n",
    "#### Análisis Aplicado"
   ]
  },
  {
   "cell_type": "markdown",
   "id": "674daf45",
   "metadata": {},
   "source": [
    "Importamos las siguientes paqueterías:"
   ]
  },
  {
   "cell_type": "code",
   "execution_count": 1,
   "id": "385fc9fb",
   "metadata": {},
   "outputs": [],
   "source": [
    "import numpy as np\n",
    "from scipy.linalg import svd\n",
    "from matplotlib.image import imread\n",
    "import matplotlib.pyplot as plt\n",
    "import os"
   ]
  },
  {
   "cell_type": "markdown",
   "id": "6e34c674",
   "metadata": {},
   "source": [
    "El método es:"
   ]
  },
  {
   "cell_type": "code",
   "execution_count": 19,
   "id": "a823dea1",
   "metadata": {},
   "outputs": [],
   "source": [
    "def singular_value_descomposition(Mat):\n",
    "    aux1 = np.dot(Mat, Mat.T)\n",
    "    \n",
    "    #Primero vamos a obtener los eigenvalores y eigenvectores de la matriz\n",
    "    eigval, eigvec = np.linalg.eig(aux1)\n",
    "    \n",
    "    \n",
    "    #En esta línea se ordenan los eigenvalores en orden ascendente con la función argsort()\n",
    "    #y después se revierte el orden del arreglo con la instrucción [::-1], ahora tenemos una lista de \n",
    "    #eigenvalores ordenados de forma descendiente\n",
    "    eigenval_desc = np.argsort(eigval)[::-1]\n",
    "    \n",
    "    \n",
    "    #En la siguiente línea se le asigna a U el valor de los eigenvectores correspondientes a los eigenvalores\n",
    "    #de forma descendente.\n",
    "    U = eigvec[:, eigenval_desc]\n",
    "    \n",
    "    \n",
    "    #La siguiente matriz que vamos a obtener es Vt\n",
    "    #primero calculamos el producto de Mt*M\n",
    "    aux2 = np.dot(Mat.T, Mat)\n",
    "    \n",
    "    #Se obtienen los eigenvalores y eigenvectores de las matrices multiplicadas\n",
    "    eigval, eigvec = np.linalg.eig(aux2)\n",
    "    \n",
    "    #Se vuelven a ordenar de igual forma que la matriz U\n",
    "    eigenval_desc = np.argsort(eigval)[::-1]\n",
    "    \n",
    "    Vt = eigvec[:, eigenval_desc].T\n",
    "    \n",
    "    #Por último tenemos que obtener la matriz sigma, la cual tenemos que descartar un tamaño,\n",
    "    #es decir, nos vamos a quedar con una matriz cuadrada y tenemos que medir el tamaño de la multiplicación\n",
    "    mat_calc = np.dot(Mat.T, Mat) if (np.size(np.dot(Mat, Mat.T)) > np.size(np.dot(Mat.T, Mat))) else np.dot(Mat, Mat.T)\n",
    "    \n",
    "    #En esta línea se sacan los eigenvalores y eigenvectores de la matriz que resultó ser la \"buena\" (cambiar esta palabra)\n",
    "    eigval, eigvec = np.linalg.eig(mat_calc)\n",
    "    \n",
    "    #Se le aplica la raíz a los eigenvalores\n",
    "    eigval = np.sqrt(eigval)\n",
    "    \n",
    "    sigma = eigval[::-1]\n",
    "    \n",
    "    return U, sigma, Vt"
   ]
  },
  {
   "cell_type": "markdown",
   "id": "c39edc44",
   "metadata": {},
   "source": []
  },
  {
   "cell_type": "code",
   "execution_count": 20,
   "id": "38b72331",
   "metadata": {},
   "outputs": [
    {
     "name": "stdout",
     "output_type": "stream",
     "text": [
      "-------------------U-------------------\n",
      "[[-0.28978415 -0.95709203]\n",
      " [-0.95709203  0.28978415]]\n",
      "\n",
      "--------------Sigma----------------\n",
      "[8.13872588 3.97003036]\n",
      "\n",
      "-------------V transpose---------------\n",
      "[[-0.26001965 -0.65919758 -0.70558368]\n",
      " [-0.89132415 -0.11719389  0.43795758]\n",
      " [ 0.37139068 -0.74278135  0.55708601]]\n",
      "[[4 2 0]\n",
      " [1 5 6]] \n",
      "\n",
      "[[4.00000000e+00 2.00000000e+00 2.22044605e-16]\n",
      " [1.00000000e+00 5.00000000e+00 6.00000000e+00]]\n"
     ]
    }
   ],
   "source": [
    "A = np.array([[4,2,0],[1,5,6]])\n",
    "\n",
    "U, Sigma, Vt = singular_value_descomposition(A)\n",
    "print(\"-------------------U-------------------\")\n",
    "print(U)\n",
    "print(\"\\n--------------Sigma----------------\")\n",
    "print(Sigma)\n",
    "print(\"\\n-------------V transpose---------------\")\n",
    "print(Vt)\n",
    "newSigma = np.zeros((2, 3))\n",
    "newSigma[:2, :2] = np.diag(Sigma[:2])\n",
    "\n",
    "print(A,\"\\n\")\n",
    "\n",
    "A_remake = (U @ newSigma @ Vt)\n",
    "print(A_remake)"
   ]
  },
  {
   "cell_type": "code",
   "execution_count": null,
   "id": "3a45c698",
   "metadata": {},
   "outputs": [],
   "source": []
  },
  {
   "cell_type": "code",
   "execution_count": null,
   "id": "c54edc32",
   "metadata": {},
   "outputs": [],
   "source": []
  }
 ],
 "metadata": {
  "kernelspec": {
   "display_name": "Python 3 (ipykernel)",
   "language": "python",
   "name": "python3"
  },
  "language_info": {
   "codemirror_mode": {
    "name": "ipython",
    "version": 3
   },
   "file_extension": ".py",
   "mimetype": "text/x-python",
   "name": "python",
   "nbconvert_exporter": "python",
   "pygments_lexer": "ipython3",
   "version": "3.9.12"
  }
 },
 "nbformat": 4,
 "nbformat_minor": 5
}
